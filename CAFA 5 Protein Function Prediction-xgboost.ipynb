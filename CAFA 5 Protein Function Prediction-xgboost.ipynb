{
 "cells": [
  {
   "cell_type": "code",
   "execution_count": 1,
   "id": "29598d06",
   "metadata": {},
   "outputs": [],
   "source": [
    "import os\n",
    "from collections import defaultdict\n",
    "from Bio import SeqIO\n",
    "import statistics\n",
    "import pandas as pd\n",
    "import numpy as np\n",
    "import math\n",
    "from sklearn.preprocessing import MultiLabelBinarizer\n",
    "import xgboost as xgb\n",
    "from sklearn.model_selection import train_test_split\n",
    "from sklearn.multioutput import MultiOutputClassifier\n",
    "from sklearn.metrics import accuracy_score\n",
    "\n",
    "os.chdir(\"/Users/zhongyuanchen/Desktop/CAFA-5-Protein-Function-Prediction\")"
   ]
  },
  {
   "cell_type": "code",
   "execution_count": 2,
   "id": "e9170300",
   "metadata": {},
   "outputs": [],
   "source": [
    "import obonet\n",
    "graph = obonet.read_obo(\"Train/go-basic.obo\")"
   ]
  },
  {
   "cell_type": "code",
   "execution_count": null,
   "id": "b9fa5830",
   "metadata": {},
   "outputs": [],
   "source": [
    "graph.nodes"
   ]
  },
  {
   "cell_type": "code",
   "execution_count": 80,
   "id": "3042c928",
   "metadata": {},
   "outputs": [
    {
     "data": {
      "text/plain": [
       "'GO:0005515'"
      ]
     },
     "execution_count": 80,
     "metadata": {},
     "output_type": "execute_result"
    }
   ],
   "source": [
    "my_annotation[0]"
   ]
  },
  {
   "cell_type": "code",
   "execution_count": 77,
   "id": "6e6ca91f",
   "metadata": {},
   "outputs": [
    {
     "data": {
      "text/plain": [
       "{'name': 'protein binding',\n",
       " 'namespace': 'molecular_function',\n",
       " 'alt_id': ['GO:0001948', 'GO:0045308'],\n",
       " 'def': '\"Binding to a protein.\" [GOC:go_curators]',\n",
       " 'subset': ['goslim_candida',\n",
       "  'goslim_chembl',\n",
       "  'goslim_metagenomics',\n",
       "  'goslim_pir',\n",
       "  'goslim_plant'],\n",
       " 'synonym': ['\"glycoprotein binding\" NARROW []',\n",
       "  '\"protein amino acid binding\" EXACT []'],\n",
       " 'is_a': ['GO:0005488']}"
      ]
     },
     "execution_count": 77,
     "metadata": {},
     "output_type": "execute_result"
    }
   ],
   "source": [
    "graph.nodes[my_annotation[0]]"
   ]
  },
  {
   "cell_type": "code",
   "execution_count": 92,
   "id": "6fe3bf17",
   "metadata": {},
   "outputs": [
    {
     "data": {
      "text/plain": [
       "False"
      ]
     },
     "execution_count": 92,
     "metadata": {},
     "output_type": "execute_result"
    }
   ],
   "source": [
    "'GO:0045308' in terms_df[\"term\"].to_list()"
   ]
  },
  {
   "cell_type": "code",
   "execution_count": 81,
   "id": "101a26ac",
   "metadata": {},
   "outputs": [
    {
     "ename": "KeyError",
     "evalue": "'GO:0045308'",
     "output_type": "error",
     "traceback": [
      "\u001b[0;31m---------------------------------------------------------------------------\u001b[0m",
      "\u001b[0;31mKeyError\u001b[0m                                  Traceback (most recent call last)",
      "Cell \u001b[0;32mIn[81], line 1\u001b[0m\n\u001b[0;32m----> 1\u001b[0m \u001b[43mgraph\u001b[49m\u001b[38;5;241;43m.\u001b[39;49m\u001b[43mnodes\u001b[49m\u001b[43m[\u001b[49m\u001b[38;5;124;43m'\u001b[39;49m\u001b[38;5;124;43mGO:0045308\u001b[39;49m\u001b[38;5;124;43m'\u001b[39;49m\u001b[43m]\u001b[49m[\u001b[38;5;124m\"\u001b[39m\u001b[38;5;124mis_a\u001b[39m\u001b[38;5;124m\"\u001b[39m]\n",
      "File \u001b[0;32m~/miniforge3/envs/tf/lib/python3.10/site-packages/networkx/classes/reportviews.py:194\u001b[0m, in \u001b[0;36mNodeView.__getitem__\u001b[0;34m(self, n)\u001b[0m\n\u001b[1;32m    189\u001b[0m \u001b[38;5;28;01mif\u001b[39;00m \u001b[38;5;28misinstance\u001b[39m(n, \u001b[38;5;28mslice\u001b[39m):\n\u001b[1;32m    190\u001b[0m     \u001b[38;5;28;01mraise\u001b[39;00m nx\u001b[38;5;241m.\u001b[39mNetworkXError(\n\u001b[1;32m    191\u001b[0m         \u001b[38;5;124mf\u001b[39m\u001b[38;5;124m\"\u001b[39m\u001b[38;5;132;01m{\u001b[39;00m\u001b[38;5;28mtype\u001b[39m(\u001b[38;5;28mself\u001b[39m)\u001b[38;5;241m.\u001b[39m\u001b[38;5;18m__name__\u001b[39m\u001b[38;5;132;01m}\u001b[39;00m\u001b[38;5;124m does not support slicing, \u001b[39m\u001b[38;5;124m\"\u001b[39m\n\u001b[1;32m    192\u001b[0m         \u001b[38;5;124mf\u001b[39m\u001b[38;5;124m\"\u001b[39m\u001b[38;5;124mtry list(G.nodes)[\u001b[39m\u001b[38;5;132;01m{\u001b[39;00mn\u001b[38;5;241m.\u001b[39mstart\u001b[38;5;132;01m}\u001b[39;00m\u001b[38;5;124m:\u001b[39m\u001b[38;5;132;01m{\u001b[39;00mn\u001b[38;5;241m.\u001b[39mstop\u001b[38;5;132;01m}\u001b[39;00m\u001b[38;5;124m:\u001b[39m\u001b[38;5;132;01m{\u001b[39;00mn\u001b[38;5;241m.\u001b[39mstep\u001b[38;5;132;01m}\u001b[39;00m\u001b[38;5;124m]\u001b[39m\u001b[38;5;124m\"\u001b[39m\n\u001b[1;32m    193\u001b[0m     )\n\u001b[0;32m--> 194\u001b[0m \u001b[38;5;28;01mreturn\u001b[39;00m \u001b[38;5;28;43mself\u001b[39;49m\u001b[38;5;241;43m.\u001b[39;49m\u001b[43m_nodes\u001b[49m\u001b[43m[\u001b[49m\u001b[43mn\u001b[49m\u001b[43m]\u001b[49m\n",
      "\u001b[0;31mKeyError\u001b[0m: 'GO:0045308'"
     ]
    }
   ],
   "source": [
    "graph.nodes['GO:0045308'][\"is_a\"]"
   ]
  },
  {
   "cell_type": "code",
   "execution_count": 37,
   "id": "776f3987",
   "metadata": {},
   "outputs": [
    {
     "name": "stdout",
     "output_type": "stream",
     "text": [
      "['GO:0008152', 'GO:0044249', 'GO:0006259', 'GO:0009059', 'GO:0009987', 'GO:1901362', 'GO:0009058', 'GO:0044271', 'GO:0006725', 'GO:0034641', 'GO:0044237', 'GO:1901360', 'GO:0008150', 'GO:1901576', 'GO:0019058', 'GO:0071704', 'GO:0006139', 'GO:0044260', 'GO:0090304', 'GO:0043170', 'GO:0046483', 'GO:0034654', 'GO:0019438', 'GO:0018130', 'GO:0016032', 'GO:0044238', 'GO:0006807', 'GO:0005515', 'GO:0005488', 'GO:0003674']\n"
     ]
    }
   ],
   "source": [
    "print(my_annotation)"
   ]
  },
  {
   "cell_type": "code",
   "execution_count": 53,
   "id": "c6c48d95",
   "metadata": {},
   "outputs": [
    {
     "data": {
      "text/plain": [
       "True"
      ]
     },
     "execution_count": 53,
     "metadata": {},
     "output_type": "execute_result"
    }
   ],
   "source": [
    "def f(term):\n",
    "    return (\"is_a\" not in graph.nodes[term]) or all([(child in my_annotation) for child in graph.nodes[term][\"is_a\"]])\n",
    "\n",
    "my_term = entry_ids[10]\n",
    "my_annotation = id_terms[my_term]\n",
    "all(f(term) for term in my_annotation)"
   ]
  },
  {
   "cell_type": "code",
   "execution_count": 9,
   "id": "e89be3e6",
   "metadata": {},
   "outputs": [],
   "source": [
    "my_term = entry_ids[0]\n",
    "my_annotation = id_terms[my_term]"
   ]
  },
  {
   "cell_type": "code",
   "execution_count": 82,
   "id": "6d4f55a0",
   "metadata": {},
   "outputs": [],
   "source": [
    "# Read in the GO-terms data\n",
    "terms_df = pd.read_csv('Train/train_terms.tsv',sep=\"\\t\")\n",
    "terms_df.drop(columns = [\"aspect\"],inplace = True)\n",
    "terms_df.set_index(\"EntryID\",inplace = True)\n",
    "freq_counts = terms_df[\"term\"].value_counts()"
   ]
  },
  {
   "cell_type": "code",
   "execution_count": 61,
   "id": "6f3e43b4",
   "metadata": {},
   "outputs": [
    {
     "data": {
      "text/plain": [
       "31466"
      ]
     },
     "execution_count": 61,
     "metadata": {},
     "output_type": "execute_result"
    }
   ],
   "source": [
    "len(freq_counts)"
   ]
  },
  {
   "cell_type": "code",
   "execution_count": null,
   "id": "2cdea123",
   "metadata": {},
   "outputs": [],
   "source": []
  },
  {
   "cell_type": "code",
   "execution_count": 76,
   "id": "30d535bf",
   "metadata": {},
   "outputs": [
    {
     "data": {
      "text/plain": [
       "57380"
      ]
     },
     "execution_count": 76,
     "metadata": {},
     "output_type": "execute_result"
    }
   ],
   "source": [
    "freq_counts.loc[graph.nodes[my_annotation[0]][\"is_a\"][0]]\n"
   ]
  },
  {
   "cell_type": "code",
   "execution_count": 74,
   "id": "8c281376",
   "metadata": {},
   "outputs": [
    {
     "data": {
      "text/plain": [
       "['GO:0005488']"
      ]
     },
     "execution_count": 74,
     "metadata": {},
     "output_type": "execute_result"
    }
   ],
   "source": [
    "graph.nodes[my_annotation[0]][\"is_a\"]"
   ]
  },
  {
   "cell_type": "code",
   "execution_count": 7,
   "id": "eb1665c9",
   "metadata": {},
   "outputs": [
    {
     "data": {
      "text/plain": [
       "'P20536'"
      ]
     },
     "execution_count": 7,
     "metadata": {},
     "output_type": "execute_result"
    }
   ],
   "source": [
    "entry_ids[0]"
   ]
  },
  {
   "cell_type": "code",
   "execution_count": 4,
   "id": "07a07802",
   "metadata": {},
   "outputs": [
    {
     "data": {
      "text/plain": [
       "0.824170378699083"
      ]
     },
     "execution_count": 4,
     "metadata": {},
     "output_type": "execute_result"
    }
   ],
   "source": [
    "# Select num_labels most frequent GO terms and restrict to these prediction\n",
    "num_labels = 1500\n",
    "chosen_terms = freq_counts.index[:num_labels]\n",
    "chosent_terms = set(chosen_terms)\n",
    "filt = terms_df[\"term\"].isin(chosen_terms)\n",
    "terms_df = terms_df[filt]\n",
    "terms = terms_df[\"term\"]\n",
    "sum(freq_counts.iloc[:num_labels])/sum(freq_counts.iloc)\n",
    "#num_labels = len(chosen_terms)"
   ]
  },
  {
   "cell_type": "code",
   "execution_count": 5,
   "id": "c0c8e4c5",
   "metadata": {},
   "outputs": [
    {
     "data": {
      "text/html": [
       "<style>#sk-container-id-1 {color: black;background-color: white;}#sk-container-id-1 pre{padding: 0;}#sk-container-id-1 div.sk-toggleable {background-color: white;}#sk-container-id-1 label.sk-toggleable__label {cursor: pointer;display: block;width: 100%;margin-bottom: 0;padding: 0.3em;box-sizing: border-box;text-align: center;}#sk-container-id-1 label.sk-toggleable__label-arrow:before {content: \"▸\";float: left;margin-right: 0.25em;color: #696969;}#sk-container-id-1 label.sk-toggleable__label-arrow:hover:before {color: black;}#sk-container-id-1 div.sk-estimator:hover label.sk-toggleable__label-arrow:before {color: black;}#sk-container-id-1 div.sk-toggleable__content {max-height: 0;max-width: 0;overflow: hidden;text-align: left;background-color: #f0f8ff;}#sk-container-id-1 div.sk-toggleable__content pre {margin: 0.2em;color: black;border-radius: 0.25em;background-color: #f0f8ff;}#sk-container-id-1 input.sk-toggleable__control:checked~div.sk-toggleable__content {max-height: 200px;max-width: 100%;overflow: auto;}#sk-container-id-1 input.sk-toggleable__control:checked~label.sk-toggleable__label-arrow:before {content: \"▾\";}#sk-container-id-1 div.sk-estimator input.sk-toggleable__control:checked~label.sk-toggleable__label {background-color: #d4ebff;}#sk-container-id-1 div.sk-label input.sk-toggleable__control:checked~label.sk-toggleable__label {background-color: #d4ebff;}#sk-container-id-1 input.sk-hidden--visually {border: 0;clip: rect(1px 1px 1px 1px);clip: rect(1px, 1px, 1px, 1px);height: 1px;margin: -1px;overflow: hidden;padding: 0;position: absolute;width: 1px;}#sk-container-id-1 div.sk-estimator {font-family: monospace;background-color: #f0f8ff;border: 1px dotted black;border-radius: 0.25em;box-sizing: border-box;margin-bottom: 0.5em;}#sk-container-id-1 div.sk-estimator:hover {background-color: #d4ebff;}#sk-container-id-1 div.sk-parallel-item::after {content: \"\";width: 100%;border-bottom: 1px solid gray;flex-grow: 1;}#sk-container-id-1 div.sk-label:hover label.sk-toggleable__label {background-color: #d4ebff;}#sk-container-id-1 div.sk-serial::before {content: \"\";position: absolute;border-left: 1px solid gray;box-sizing: border-box;top: 0;bottom: 0;left: 50%;z-index: 0;}#sk-container-id-1 div.sk-serial {display: flex;flex-direction: column;align-items: center;background-color: white;padding-right: 0.2em;padding-left: 0.2em;position: relative;}#sk-container-id-1 div.sk-item {position: relative;z-index: 1;}#sk-container-id-1 div.sk-parallel {display: flex;align-items: stretch;justify-content: center;background-color: white;position: relative;}#sk-container-id-1 div.sk-item::before, #sk-container-id-1 div.sk-parallel-item::before {content: \"\";position: absolute;border-left: 1px solid gray;box-sizing: border-box;top: 0;bottom: 0;left: 50%;z-index: -1;}#sk-container-id-1 div.sk-parallel-item {display: flex;flex-direction: column;z-index: 1;position: relative;background-color: white;}#sk-container-id-1 div.sk-parallel-item:first-child::after {align-self: flex-end;width: 50%;}#sk-container-id-1 div.sk-parallel-item:last-child::after {align-self: flex-start;width: 50%;}#sk-container-id-1 div.sk-parallel-item:only-child::after {width: 0;}#sk-container-id-1 div.sk-dashed-wrapped {border: 1px dashed gray;margin: 0 0.4em 0.5em 0.4em;box-sizing: border-box;padding-bottom: 0.4em;background-color: white;}#sk-container-id-1 div.sk-label label {font-family: monospace;font-weight: bold;display: inline-block;line-height: 1.2em;}#sk-container-id-1 div.sk-label-container {text-align: center;}#sk-container-id-1 div.sk-container {/* jupyter's `normalize.less` sets `[hidden] { display: none; }` but bootstrap.min.css set `[hidden] { display: none !important; }` so we also need the `!important` here to be able to override the default hidden behavior on the sphinx rendered scikit-learn.org. See: https://github.com/scikit-learn/scikit-learn/issues/21755 */display: inline-block !important;position: relative;}#sk-container-id-1 div.sk-text-repr-fallback {display: none;}</style><div id=\"sk-container-id-1\" class=\"sk-top-container\"><div class=\"sk-text-repr-fallback\"><pre>MultiLabelBinarizer()</pre><b>In a Jupyter environment, please rerun this cell to show the HTML representation or trust the notebook. <br />On GitHub, the HTML representation is unable to render, please try loading this page with nbviewer.org.</b></div><div class=\"sk-container\" hidden><div class=\"sk-item\"><div class=\"sk-estimator sk-toggleable\"><input class=\"sk-toggleable__control sk-hidden--visually\" id=\"sk-estimator-id-1\" type=\"checkbox\" checked><label for=\"sk-estimator-id-1\" class=\"sk-toggleable__label sk-toggleable__label-arrow\">MultiLabelBinarizer</label><div class=\"sk-toggleable__content\"><pre>MultiLabelBinarizer()</pre></div></div></div></div></div>"
      ],
      "text/plain": [
       "MultiLabelBinarizer()"
      ]
     },
     "execution_count": 5,
     "metadata": {},
     "output_type": "execute_result"
    }
   ],
   "source": [
    "# Multilabel encoding\n",
    "terms_mlb = MultiLabelBinarizer()\n",
    "terms_mlb.fit([terms])"
   ]
  },
  {
   "cell_type": "code",
   "execution_count": 6,
   "id": "8087a482",
   "metadata": {},
   "outputs": [],
   "source": [
    "embedded_sqs = np.load(\"Eembedding/train_embeds.npy\")\n",
    "entry_ids = np.load(\"Eembedding/train_ids.npy\")\n",
    "embedded_ids = {entry_id:indx for indx,entry_id in enumerate(entry_ids)}\n",
    "\n",
    "id_terms = defaultdict(list)\n",
    "for entry_id,row in terms_df.iterrows():\n",
    "    id_terms[entry_id].append(row[\"term\"])"
   ]
  },
  {
   "cell_type": "code",
   "execution_count": null,
   "id": "b1814b50",
   "metadata": {},
   "outputs": [],
   "source": [
    "y = []\n",
    "for entry_id in entry_ids:\n",
    "    anotation = id_terms[entry_id]\n",
    "    y.append(terms_mlb.transform([anotation])[0])"
   ]
  },
  {
   "cell_type": "code",
   "execution_count": null,
   "id": "f5227d2e",
   "metadata": {},
   "outputs": [],
   "source": [
    "X = embedded_sqs\n",
    "\n",
    "X_train, X_test, y_train, y_test = train_test_split(X, y, test_size=0.2, random_state=123)\n",
    "\n",
    "from sklearn.naive_bayes import MultinomialNB\n",
    "clf = MultinomialNB(force_alpha=True)\n",
    "clf.fit(X_train, y_train)\n",
    "\n",
    "print('Accuracy on test data: {:.1f}%'.format(accuracy_score(y_test, clf.predict(X_test))*100))"
   ]
  },
  {
   "cell_type": "code",
   "execution_count": null,
   "id": "5a06c614",
   "metadata": {},
   "outputs": [],
   "source": [
    "multilabel_model"
   ]
  },
  {
   "cell_type": "code",
   "execution_count": null,
   "id": "ff5d1bdc",
   "metadata": {},
   "outputs": [],
   "source": [
    "# Define dictionaries for fast acessing of terms and sequences using their EntryIDs\n",
    "\n",
    "\n",
    "# Define a data generator object to generate data for each epoch\n",
    "# Without generator, the size of all sequences add up to 30 gigabytes\n",
    "class Data_Generator(tf.keras.utils.Sequence):\n",
    "    \n",
    "    def __init__(self,indexs, batch_size):\n",
    "        self.indexs = indexs\n",
    "        self.batch_size = batch_size\n",
    "\n",
    "    def __len__(self):\n",
    "        return math.ceil(len(self.indexs) / self.batch_size)\n",
    "    \n",
    "    def on_epoch_end(self):\n",
    "        random.shuffle(self.indexs)\n",
    "    \n",
    "    def __getitem__(self, idx):\n",
    "        low = idx * self.batch_size\n",
    "        # Cap upper bound at array length; the last batch may be smaller\n",
    "        # if the total number of items is not a multiple of batch size.\n",
    "        high = min(low + self.batch_size, len(self.indexs))\n",
    "        batch_x = []\n",
    "        batch_y = []\n",
    "\n",
    "        for i in range(low,high):\n",
    "            entry_id = self.indexs[i]\n",
    "            anotation = id_terms[entry_id]\n",
    "            batch_x.append(embedded_sqs[embedded_ids[entry_id]])\n",
    "            batch_y.append(terms_mlb.transform([anotation])[0])\n",
    "\n",
    "        return np.array(batch_x), np.array(batch_y)\n"
   ]
  },
  {
   "cell_type": "code",
   "execution_count": null,
   "id": "df9d39a0",
   "metadata": {},
   "outputs": [],
   "source": [
    "weights = pd.read_csv(\"IA.txt\",header = None,delimiter='\\t')\n",
    "weights.columns = [\"term\",\"weight\"]\n",
    "weight_dict = {row[\"term\"]:row[\"weight\"] for indx,row in weights.iterrows()}\n",
    "weights = {indx:weight_dict[term] for indx,term in enumerate(terms_mlb.classes_)}"
   ]
  },
  {
   "cell_type": "code",
   "execution_count": null,
   "id": "2fd76f57",
   "metadata": {},
   "outputs": [],
   "source": [
    "# Create training and testing datas by shuffling and spliting an array of EntryIDs\n",
    "indexs = list(entry_ids)\n",
    "random.shuffle(indexs)\n",
    "train_test_split = int(0.3*len(indexs))\n",
    "train_indexs = indexs[:train_test_split]\n",
    "test_indexs = indexs[train_test_split:]\n",
    "\n",
    "# Define the respected generators for training and testing\n",
    "train_generator = Data_Generator(train_indexs,512)\n",
    "test_generator = Data_Generator(test_indexs,512)\n",
    "\n",
    "# Create a simple CNN for multilabel classification\n",
    "#model = models.Sequential()\n",
    "#model.add(layers.Dense(num_labels,activation = 'sigmoid'))\n",
    "\n",
    "#\n",
    "model = tf.keras.Sequential([\n",
    "    tf.keras.layers.BatchNormalization(input_shape=[1024]),    \n",
    "    tf.keras.layers.Dense(units=512, activation='relu'),\n",
    "    tf.keras.layers.Dense(units=512, activation='relu'),\n",
    "    tf.keras.layers.Dense(units=512, activation='relu'),\n",
    "    tf.keras.layers.Dense(units=num_labels,activation='sigmoid')\n",
    "])\n",
    "\n",
    "my_callbacks = [\n",
    "    tf.keras.callbacks.EarlyStopping(patience=2),\n",
    "    tf.keras.callbacks.ModelCheckpoint(filepath='model.{epoch:02d}-{val_loss:.2f}.h5'),\n",
    "    tf.keras.callbacks.TensorBoard(log_dir='./logs'),\n",
    "]\n",
    "\n",
    "# Compile and train the model\n",
    "model.compile(loss='binary_crossentropy', \n",
    "              optimizer='adam',\n",
    "              metrics=['binary_accuracy', tf.keras.metrics.AUC()],\n",
    "             )\n",
    "model.fit(x = train_generator,validation_data = test_generator,epochs = 20, callbacks=my_callbacks)"
   ]
  },
  {
   "cell_type": "code",
   "execution_count": null,
   "id": "7712a81e",
   "metadata": {},
   "outputs": [],
   "source": [
    "model.load_weights(\"model.11-0.06.h5\")\n",
    "model.evaluate(test_generator)"
   ]
  },
  {
   "cell_type": "code",
   "execution_count": null,
   "id": "ac680bde",
   "metadata": {},
   "outputs": [],
   "source": [
    "# Read in test data and preprocess similarly\n",
    "embedded_sqs_test = np.load(\"Eembedding/test_embeds.npy\")\n",
    "embedded_ids_test = np.load(\"Eembedding/test_ids.npy\")\n",
    "prediction = model.predict(embedded_sqs_test)"
   ]
  },
  {
   "cell_type": "code",
   "execution_count": null,
   "id": "6d3e08c5",
   "metadata": {},
   "outputs": [],
   "source": [
    "with open(\"submission_test.tsv\",\"w\") as f:\n",
    "    for indx,entry_id in enumerate(embedded_ids_test):\n",
    "        for i in range(1500):\n",
    "            print (f\"{entry_id}\\t{terms_mlb.classes_[i]}\\t{prediction[indx][i]}\",file = f)\n",
    "        if indx%3000 == 0:\n",
    "            print(f\"{indx/len(embedded_ids_test)}% completed\")\n",
    "    print(\"Completed\")"
   ]
  },
  {
   "cell_type": "code",
   "execution_count": null,
   "id": "42d2a80d",
   "metadata": {},
   "outputs": [],
   "source": [
    "pred_df = []\n",
    "for indx,entry_id in enumerate(embedded_ids_test):\n",
    "    for i in range(1500):\n",
    "        pred_df.append([entry_id,terms_mlb.classes_[i],prediction[indx][i]])\n",
    "    if indx%3000 == 0:\n",
    "        print(f\"{indx/len(embedded_ids_test)}% completed\")\n",
    "print(\"Completed\")\n",
    "\n",
    "submission = pd.DataFrame(pred_df)\n",
    "submission.columns = [\"EntryID\",\"Terms\",\"Prediction\"]\n",
    "submission.to_csv('submission.tsv', sep=\"\\t\",header = False,index = False)"
   ]
  },
  {
   "cell_type": "code",
   "execution_count": null,
   "id": "fdd8d4c3",
   "metadata": {},
   "outputs": [],
   "source": [
    "trimed = submission[submission[\"Prediction\"] > 0.4]"
   ]
  },
  {
   "cell_type": "code",
   "execution_count": null,
   "id": "8f2b7099",
   "metadata": {},
   "outputs": [],
   "source": [
    "len(trimed)"
   ]
  },
  {
   "cell_type": "code",
   "execution_count": null,
   "id": "d33c4b9a",
   "metadata": {},
   "outputs": [],
   "source": [
    "trimed.to_csv('submission.tsv', sep=\"\\t\",header = False,index = False)"
   ]
  },
  {
   "cell_type": "code",
   "execution_count": null,
   "id": "a989194e",
   "metadata": {},
   "outputs": [],
   "source": [
    "submission.to_csv('submission.tsv', sep=\"\\t\",header = False,index = False)"
   ]
  },
  {
   "cell_type": "code",
   "execution_count": null,
   "id": "ca4814ad",
   "metadata": {},
   "outputs": [],
   "source": [
    "print(\"\\n\\n\\n\\n\\n\\n\\n\\n\\n\\n\\n\\n\\n\")"
   ]
  },
  {
   "cell_type": "code",
   "execution_count": null,
   "id": "21d597e2",
   "metadata": {},
   "outputs": [],
   "source": []
  }
 ],
 "metadata": {
  "kernelspec": {
   "display_name": "Python [conda env:tf] *",
   "language": "python",
   "name": "conda-env-tf-py"
  },
  "language_info": {
   "codemirror_mode": {
    "name": "ipython",
    "version": 3
   },
   "file_extension": ".py",
   "mimetype": "text/x-python",
   "name": "python",
   "nbconvert_exporter": "python",
   "pygments_lexer": "ipython3",
   "version": "3.10.11"
  }
 },
 "nbformat": 4,
 "nbformat_minor": 5
}
