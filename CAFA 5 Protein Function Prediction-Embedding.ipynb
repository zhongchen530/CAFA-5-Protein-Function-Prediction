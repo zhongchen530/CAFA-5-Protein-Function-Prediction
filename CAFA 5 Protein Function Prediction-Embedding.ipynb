{
 "cells": [
  {
   "cell_type": "code",
   "execution_count": 1,
   "id": "29598d06",
   "metadata": {},
   "outputs": [],
   "source": [
    "import os\n",
    "from collections import defaultdict\n",
    "from Bio import SeqIO\n",
    "import statistics\n",
    "import pandas as pd\n",
    "import numpy as np\n",
    "import math\n",
    "from tensorflow.keras import datasets, layers, models\n",
    "import tensorflow as tf\n",
    "from sklearn.preprocessing import MultiLabelBinarizer\n",
    "from transformers import T5Tokenizer, T5Model\n",
    "import re\n",
    "import random\n",
    "import torch\n",
    "from npy_append_array import NpyAppendArray\n",
    "os.chdir(\"/Users/zhongyuanchen/Desktop/CAFA-5-Protein-Function-Prediction\")"
   ]
  },
  {
   "cell_type": "code",
   "execution_count": 27,
   "id": "e9170300",
   "metadata": {},
   "outputs": [],
   "source": [
    "#graph = obonet.read_obo(\"/content/drive/MyDrive/cafa-5-protein-function-prediction/Train/go-basic.obo\")"
   ]
  },
  {
   "cell_type": "code",
   "execution_count": 2,
   "id": "6d4f55a0",
   "metadata": {},
   "outputs": [],
   "source": [
    "# Read in the GO-terms data\n",
    "terms_df = pd.read_csv('Train/train_terms.tsv',sep=\"\\t\")\n",
    "terms_df.drop(columns = [\"aspect\"],inplace = True)\n",
    "terms_df.set_index(\"EntryID\",inplace = True)\n",
    "freq_counts = terms_df[\"term\"].value_counts()"
   ]
  },
  {
   "cell_type": "code",
   "execution_count": 3,
   "id": "07a07802",
   "metadata": {},
   "outputs": [
    {
     "data": {
      "text/plain": [
       "0.824170378699083"
      ]
     },
     "execution_count": 3,
     "metadata": {},
     "output_type": "execute_result"
    }
   ],
   "source": [
    "# Select num_labels most frequent GO terms and restrict to these prediction\n",
    "num_labels = 1500\n",
    "chosen_terms = freq_counts.index[:num_labels]\n",
    "chosent_terms = set(chosen_terms)\n",
    "filt = terms_df[\"term\"].isin(chosen_terms)\n",
    "terms_df = terms_df[filt]\n",
    "terms = terms_df[\"term\"]\n",
    "sum(freq_counts.iloc[:num_labels])/sum(freq_counts.iloc)\n",
    "#num_labels = len(chosen_terms)"
   ]
  },
  {
   "cell_type": "code",
   "execution_count": 8,
   "id": "c0c8e4c5",
   "metadata": {},
   "outputs": [
    {
     "data": {
      "text/html": [
       "<style>#sk-container-id-1 {color: black;background-color: white;}#sk-container-id-1 pre{padding: 0;}#sk-container-id-1 div.sk-toggleable {background-color: white;}#sk-container-id-1 label.sk-toggleable__label {cursor: pointer;display: block;width: 100%;margin-bottom: 0;padding: 0.3em;box-sizing: border-box;text-align: center;}#sk-container-id-1 label.sk-toggleable__label-arrow:before {content: \"▸\";float: left;margin-right: 0.25em;color: #696969;}#sk-container-id-1 label.sk-toggleable__label-arrow:hover:before {color: black;}#sk-container-id-1 div.sk-estimator:hover label.sk-toggleable__label-arrow:before {color: black;}#sk-container-id-1 div.sk-toggleable__content {max-height: 0;max-width: 0;overflow: hidden;text-align: left;background-color: #f0f8ff;}#sk-container-id-1 div.sk-toggleable__content pre {margin: 0.2em;color: black;border-radius: 0.25em;background-color: #f0f8ff;}#sk-container-id-1 input.sk-toggleable__control:checked~div.sk-toggleable__content {max-height: 200px;max-width: 100%;overflow: auto;}#sk-container-id-1 input.sk-toggleable__control:checked~label.sk-toggleable__label-arrow:before {content: \"▾\";}#sk-container-id-1 div.sk-estimator input.sk-toggleable__control:checked~label.sk-toggleable__label {background-color: #d4ebff;}#sk-container-id-1 div.sk-label input.sk-toggleable__control:checked~label.sk-toggleable__label {background-color: #d4ebff;}#sk-container-id-1 input.sk-hidden--visually {border: 0;clip: rect(1px 1px 1px 1px);clip: rect(1px, 1px, 1px, 1px);height: 1px;margin: -1px;overflow: hidden;padding: 0;position: absolute;width: 1px;}#sk-container-id-1 div.sk-estimator {font-family: monospace;background-color: #f0f8ff;border: 1px dotted black;border-radius: 0.25em;box-sizing: border-box;margin-bottom: 0.5em;}#sk-container-id-1 div.sk-estimator:hover {background-color: #d4ebff;}#sk-container-id-1 div.sk-parallel-item::after {content: \"\";width: 100%;border-bottom: 1px solid gray;flex-grow: 1;}#sk-container-id-1 div.sk-label:hover label.sk-toggleable__label {background-color: #d4ebff;}#sk-container-id-1 div.sk-serial::before {content: \"\";position: absolute;border-left: 1px solid gray;box-sizing: border-box;top: 0;bottom: 0;left: 50%;z-index: 0;}#sk-container-id-1 div.sk-serial {display: flex;flex-direction: column;align-items: center;background-color: white;padding-right: 0.2em;padding-left: 0.2em;position: relative;}#sk-container-id-1 div.sk-item {position: relative;z-index: 1;}#sk-container-id-1 div.sk-parallel {display: flex;align-items: stretch;justify-content: center;background-color: white;position: relative;}#sk-container-id-1 div.sk-item::before, #sk-container-id-1 div.sk-parallel-item::before {content: \"\";position: absolute;border-left: 1px solid gray;box-sizing: border-box;top: 0;bottom: 0;left: 50%;z-index: -1;}#sk-container-id-1 div.sk-parallel-item {display: flex;flex-direction: column;z-index: 1;position: relative;background-color: white;}#sk-container-id-1 div.sk-parallel-item:first-child::after {align-self: flex-end;width: 50%;}#sk-container-id-1 div.sk-parallel-item:last-child::after {align-self: flex-start;width: 50%;}#sk-container-id-1 div.sk-parallel-item:only-child::after {width: 0;}#sk-container-id-1 div.sk-dashed-wrapped {border: 1px dashed gray;margin: 0 0.4em 0.5em 0.4em;box-sizing: border-box;padding-bottom: 0.4em;background-color: white;}#sk-container-id-1 div.sk-label label {font-family: monospace;font-weight: bold;display: inline-block;line-height: 1.2em;}#sk-container-id-1 div.sk-label-container {text-align: center;}#sk-container-id-1 div.sk-container {/* jupyter's `normalize.less` sets `[hidden] { display: none; }` but bootstrap.min.css set `[hidden] { display: none !important; }` so we also need the `!important` here to be able to override the default hidden behavior on the sphinx rendered scikit-learn.org. See: https://github.com/scikit-learn/scikit-learn/issues/21755 */display: inline-block !important;position: relative;}#sk-container-id-1 div.sk-text-repr-fallback {display: none;}</style><div id=\"sk-container-id-1\" class=\"sk-top-container\"><div class=\"sk-text-repr-fallback\"><pre>MultiLabelBinarizer()</pre><b>In a Jupyter environment, please rerun this cell to show the HTML representation or trust the notebook. <br />On GitHub, the HTML representation is unable to render, please try loading this page with nbviewer.org.</b></div><div class=\"sk-container\" hidden><div class=\"sk-item\"><div class=\"sk-estimator sk-toggleable\"><input class=\"sk-toggleable__control sk-hidden--visually\" id=\"sk-estimator-id-1\" type=\"checkbox\" checked><label for=\"sk-estimator-id-1\" class=\"sk-toggleable__label sk-toggleable__label-arrow\">MultiLabelBinarizer</label><div class=\"sk-toggleable__content\"><pre>MultiLabelBinarizer()</pre></div></div></div></div></div>"
      ],
      "text/plain": [
       "MultiLabelBinarizer()"
      ]
     },
     "execution_count": 8,
     "metadata": {},
     "output_type": "execute_result"
    }
   ],
   "source": [
    "# Multilabel encoding\n",
    "terms_mlb = MultiLabelBinarizer()\n",
    "terms_mlb.fit([terms])"
   ]
  },
  {
   "cell_type": "code",
   "execution_count": 7,
   "id": "8087a482",
   "metadata": {},
   "outputs": [],
   "source": [
    "embedded_sqs = np.load(\"Eembedding/train_embeds.npy\")\n",
    "entry_ids = np.load(\"Eembedding/train_ids.npy\")\n",
    "embedded_ids = {entry_id:indx for indx,entry_id in enumerate(entry_ids)}"
   ]
  },
  {
   "cell_type": "code",
   "execution_count": 14,
   "id": "ff5d1bdc",
   "metadata": {},
   "outputs": [],
   "source": [
    "# Define dictionaries for fast acessing of terms and sequences using their EntryIDs\n",
    "id_terms = defaultdict(list)\n",
    "for entry_id,row in terms_df.iterrows():\n",
    "    id_terms[entry_id].append(row[\"term\"])\n",
    "\n",
    "# Define a data generator object to generate data for each epoch\n",
    "# Without generator, the size of all sequences add up to 30 gigabytes\n",
    "class Data_Generator(tf.keras.utils.Sequence):\n",
    "    \n",
    "    def __init__(self,indexs, batch_size):\n",
    "        self.indexs = indexs\n",
    "        self.batch_size = batch_size\n",
    "\n",
    "    def __len__(self):\n",
    "        return math.ceil(len(self.indexs) / self.batch_size)\n",
    "    \n",
    "    def on_epoch_end(self):\n",
    "        random.shuffle(self.indexs)\n",
    "    \n",
    "    def __getitem__(self, idx):\n",
    "        low = idx * self.batch_size\n",
    "        # Cap upper bound at array length; the last batch may be smaller\n",
    "        # if the total number of items is not a multiple of batch size.\n",
    "        high = min(low + self.batch_size, len(self.indexs))\n",
    "        batch_x = []\n",
    "        batch_y = []\n",
    "\n",
    "        for i in range(low,high):\n",
    "            entry_id = self.indexs[i]\n",
    "            anotation = id_terms[entry_id]\n",
    "            batch_x.append(embedded_sqs[embedded_ids[entry_id]])\n",
    "            batch_y.append(terms_mlb.transform([anotation])[0])\n",
    "\n",
    "        return np.array(batch_x), np.array(batch_y)\n"
   ]
  },
  {
   "cell_type": "code",
   "execution_count": 15,
   "id": "df9d39a0",
   "metadata": {},
   "outputs": [],
   "source": [
    "weights = pd.read_csv(\"IA.txt\",header = None,delimiter='\\t')\n",
    "weights.columns = [\"term\",\"weight\"]\n",
    "weight_dict = {row[\"term\"]:row[\"weight\"] for indx,row in weights.iterrows()}\n",
    "weights = {indx:weight_dict[term] for indx,term in enumerate(terms_mlb.classes_)}"
   ]
  },
  {
   "cell_type": "code",
   "execution_count": 35,
   "id": "2fd76f57",
   "metadata": {},
   "outputs": [
    {
     "name": "stdout",
     "output_type": "stream",
     "text": [
      "Epoch 1/20\n",
      "84/84 [==============================] - 9s 99ms/step - loss: 0.1164 - binary_accuracy: 0.9679 - auc_5: 0.7772 - val_loss: 0.5034 - val_binary_accuracy: 0.9803 - val_auc_5: 0.8550\n",
      "Epoch 2/20\n",
      "84/84 [==============================] - 8s 100ms/step - loss: 0.0693 - binary_accuracy: 0.9805 - auc_5: 0.8884 - val_loss: 0.4049 - val_binary_accuracy: 0.9807 - val_auc_5: 0.9061\n",
      "Epoch 3/20\n",
      "84/84 [==============================] - 8s 100ms/step - loss: 0.0646 - binary_accuracy: 0.9808 - auc_5: 0.9128 - val_loss: 0.3049 - val_binary_accuracy: 0.9809 - val_auc_5: 0.9196\n",
      "Epoch 4/20\n",
      "84/84 [==============================] - 8s 98ms/step - loss: 0.0622 - binary_accuracy: 0.9811 - auc_5: 0.9229 - val_loss: 0.2210 - val_binary_accuracy: 0.9810 - val_auc_5: 0.9266\n",
      "Epoch 5/20\n",
      "84/84 [==============================] - 8s 101ms/step - loss: 0.0605 - binary_accuracy: 0.9813 - auc_5: 0.9289 - val_loss: 0.1398 - val_binary_accuracy: 0.9811 - val_auc_5: 0.9289\n",
      "Epoch 6/20\n",
      "84/84 [==============================] - 8s 92ms/step - loss: 0.0591 - binary_accuracy: 0.9815 - auc_5: 0.9337 - val_loss: 0.0919 - val_binary_accuracy: 0.9812 - val_auc_5: 0.9319\n",
      "Epoch 7/20\n",
      "84/84 [==============================] - 7s 90ms/step - loss: 0.0577 - binary_accuracy: 0.9817 - auc_5: 0.9379 - val_loss: 0.0707 - val_binary_accuracy: 0.9812 - val_auc_5: 0.9327\n",
      "Epoch 8/20\n",
      "84/84 [==============================] - 8s 92ms/step - loss: 0.0564 - binary_accuracy: 0.9819 - auc_5: 0.9414 - val_loss: 0.0642 - val_binary_accuracy: 0.9811 - val_auc_5: 0.9318\n",
      "Epoch 9/20\n",
      "84/84 [==============================] - 7s 89ms/step - loss: 0.0552 - binary_accuracy: 0.9821 - auc_5: 0.9446 - val_loss: 0.0613 - val_binary_accuracy: 0.9812 - val_auc_5: 0.9294\n",
      "Epoch 10/20\n",
      "84/84 [==============================] - 7s 89ms/step - loss: 0.0540 - binary_accuracy: 0.9824 - auc_5: 0.9477 - val_loss: 0.0612 - val_binary_accuracy: 0.9809 - val_auc_5: 0.9276\n",
      "Epoch 11/20\n",
      "84/84 [==============================] - 8s 90ms/step - loss: 0.0527 - binary_accuracy: 0.9826 - auc_5: 0.9506 - val_loss: 0.0610 - val_binary_accuracy: 0.9812 - val_auc_5: 0.9230\n",
      "Epoch 12/20\n",
      "84/84 [==============================] - 7s 89ms/step - loss: 0.0516 - binary_accuracy: 0.9829 - auc_5: 0.9531 - val_loss: 0.0617 - val_binary_accuracy: 0.9811 - val_auc_5: 0.9186\n",
      "Epoch 13/20\n",
      "84/84 [==============================] - 8s 90ms/step - loss: 0.0504 - binary_accuracy: 0.9832 - auc_5: 0.9558 - val_loss: 0.0615 - val_binary_accuracy: 0.9811 - val_auc_5: 0.9194\n"
     ]
    },
    {
     "data": {
      "text/plain": [
       "<keras.callbacks.History at 0x14cd3a2f0>"
      ]
     },
     "execution_count": 35,
     "metadata": {},
     "output_type": "execute_result"
    }
   ],
   "source": [
    "# Create training and testing datas by shuffling and spliting an array of EntryIDs\n",
    "indexs = list(entry_ids)\n",
    "random.shuffle(indexs)\n",
    "train_test_split = int(0.3*len(indexs))\n",
    "train_indexs = indexs[:train_test_split]\n",
    "test_indexs = indexs[train_test_split:]\n",
    "\n",
    "# Define the respected generators for training and testing\n",
    "train_generator = Data_Generator(train_indexs,512)\n",
    "test_generator = Data_Generator(test_indexs,512)\n",
    "\n",
    "# Create a simple CNN for multilabel classification\n",
    "#model = models.Sequential()\n",
    "#model.add(layers.Dense(num_labels,activation = 'sigmoid'))\n",
    "\n",
    "#\n",
    "model = tf.keras.Sequential([\n",
    "    tf.keras.layers.BatchNormalization(input_shape=[1024]),    \n",
    "    tf.keras.layers.Dense(units=512, activation='relu'),\n",
    "    tf.keras.layers.Dense(units=512, activation='relu'),\n",
    "    tf.keras.layers.Dense(units=512, activation='relu'),\n",
    "    tf.keras.layers.Dense(units=num_labels,activation='sigmoid')\n",
    "])\n",
    "\n",
    "my_callbacks = [\n",
    "    tf.keras.callbacks.EarlyStopping(patience=2),\n",
    "    tf.keras.callbacks.ModelCheckpoint(filepath='model.{epoch:02d}-{val_loss:.2f}.h5'),\n",
    "    tf.keras.callbacks.TensorBoard(log_dir='./logs'),\n",
    "]\n",
    "\n",
    "# Compile and train the model\n",
    "model.compile(loss='binary_crossentropy', \n",
    "              optimizer='adam',\n",
    "              metrics=['binary_accuracy', tf.keras.metrics.AUC()],\n",
    "             )\n",
    "model.fit(x = train_generator,validation_data = test_generator,epochs = 20, callbacks=my_callbacks)"
   ]
  },
  {
   "cell_type": "code",
   "execution_count": 37,
   "id": "7712a81e",
   "metadata": {},
   "outputs": [
    {
     "name": "stdout",
     "output_type": "stream",
     "text": [
      "195/195 [==============================] - 5s 27ms/step - loss: 0.0610 - binary_accuracy: 0.9812 - auc_5: 0.9230\n"
     ]
    },
    {
     "data": {
      "text/plain": [
       "[0.06096853315830231, 0.9811958074569702, 0.9229578971862793]"
      ]
     },
     "execution_count": 37,
     "metadata": {},
     "output_type": "execute_result"
    }
   ],
   "source": [
    "model.load_weights(\"model.11-0.06.h5\")\n",
    "model.evaluate(test_generator)"
   ]
  },
  {
   "cell_type": "code",
   "execution_count": 38,
   "id": "ac680bde",
   "metadata": {},
   "outputs": [
    {
     "name": "stdout",
     "output_type": "stream",
     "text": [
      "4434/4434 [==============================] - 6s 1ms/step\n"
     ]
    }
   ],
   "source": [
    "# Read in test data and preprocess similarly\n",
    "embedded_sqs_test = np.load(\"Eembedding/test_embeds.npy\")\n",
    "embedded_ids_test = np.load(\"Eembedding/test_ids.npy\")\n",
    "prediction = model.predict(embedded_sqs_test)"
   ]
  },
  {
   "cell_type": "code",
   "execution_count": 39,
   "id": "6d3e08c5",
   "metadata": {},
   "outputs": [
    {
     "name": "stdout",
     "output_type": "stream",
     "text": [
      "0.0% completed\n",
      "0.02114686497726712% completed\n",
      "0.04229372995453424% completed\n",
      "0.06344059493180136% completed\n",
      "0.08458745990906848% completed\n",
      "0.1057343248863356% completed\n",
      "0.12688118986360272% completed\n",
      "0.14802805484086984% completed\n",
      "0.16917491981813695% completed\n",
      "0.19032178479540407% completed\n",
      "0.2114686497726712% completed\n",
      "0.23261551474993833% completed\n",
      "0.25376237972720544% completed\n",
      "0.2749092447044726% completed\n",
      "0.2960561096817397% completed\n",
      "0.3172029746590068% completed\n",
      "0.3383498396362739% completed\n",
      "0.35949670461354105% completed\n",
      "0.38064356959080814% completed\n",
      "0.4017904345680753% completed\n",
      "0.4229372995453424% completed\n",
      "0.4440841645226095% completed\n",
      "0.46523102949987666% completed\n",
      "0.48637789447714375% completed\n",
      "0.5075247594544109% completed\n",
      "0.528671624431678% completed\n",
      "0.5498184894089452% completed\n",
      "0.5709653543862122% completed\n",
      "0.5921122193634794% completed\n",
      "0.6132590843407465% completed\n",
      "0.6344059493180136% completed\n",
      "0.6555528142952807% completed\n",
      "0.6766996792725478% completed\n",
      "0.697846544249815% completed\n",
      "0.7189934092270821% completed\n",
      "0.7401402742043492% completed\n",
      "0.7612871391816163% completed\n",
      "0.7824340041588834% completed\n",
      "0.8035808691361506% completed\n",
      "0.8247277341134177% completed\n",
      "0.8458745990906849% completed\n",
      "0.8670214640679519% completed\n",
      "0.888168329045219% completed\n",
      "0.9093151940224862% completed\n",
      "0.9304620589997533% completed\n",
      "0.9516089239770205% completed\n",
      "0.9727557889542875% completed\n",
      "0.9939026539315546% completed\n",
      "Completed\n"
     ]
    }
   ],
   "source": [
    "with open(\"submission_test.tsv\",\"w\") as f:\n",
    "    for indx,entry_id in enumerate(embedded_ids_test):\n",
    "        for i in range(1500):\n",
    "            print (f\"{entry_id}\\t{terms_mlb.classes_[i]}\\t{prediction[indx][i]}\",file = f)\n",
    "        if indx%3000 == 0:\n",
    "            print(f\"{indx/len(embedded_ids_test)}% completed\")\n",
    "    print(\"Completed\")"
   ]
  },
  {
   "cell_type": "code",
   "execution_count": 31,
   "id": "42d2a80d",
   "metadata": {},
   "outputs": [
    {
     "name": "stdout",
     "output_type": "stream",
     "text": [
      "0.0% completed\n",
      "0.02114686497726712% completed\n",
      "0.04229372995453424% completed\n",
      "0.06344059493180136% completed\n",
      "0.08458745990906848% completed\n",
      "0.1057343248863356% completed\n",
      "0.12688118986360272% completed\n",
      "0.14802805484086984% completed\n",
      "0.16917491981813695% completed\n",
      "0.19032178479540407% completed\n",
      "0.2114686497726712% completed\n",
      "0.23261551474993833% completed\n",
      "0.25376237972720544% completed\n",
      "0.2749092447044726% completed\n",
      "0.2960561096817397% completed\n",
      "0.3172029746590068% completed\n",
      "0.3383498396362739% completed\n",
      "0.35949670461354105% completed\n",
      "0.38064356959080814% completed\n",
      "0.4017904345680753% completed\n",
      "0.4229372995453424% completed\n",
      "0.4440841645226095% completed\n",
      "0.46523102949987666% completed\n",
      "0.48637789447714375% completed\n",
      "0.5075247594544109% completed\n",
      "0.528671624431678% completed\n",
      "0.5498184894089452% completed\n",
      "0.5709653543862122% completed\n",
      "0.5921122193634794% completed\n",
      "0.6132590843407465% completed\n",
      "0.6344059493180136% completed\n",
      "0.6555528142952807% completed\n",
      "0.6766996792725478% completed\n",
      "0.697846544249815% completed\n",
      "0.7189934092270821% completed\n",
      "0.7401402742043492% completed\n",
      "0.7612871391816163% completed\n",
      "0.7824340041588834% completed\n",
      "0.8035808691361506% completed\n",
      "0.8247277341134177% completed\n",
      "0.8458745990906849% completed\n",
      "0.8670214640679519% completed\n",
      "0.888168329045219% completed\n",
      "0.9093151940224862% completed\n",
      "0.9304620589997533% completed\n",
      "0.9516089239770205% completed\n",
      "0.9727557889542875% completed\n",
      "0.9939026539315546% completed\n",
      "Completed\n"
     ]
    }
   ],
   "source": [
    "pred_df = []\n",
    "for indx,entry_id in enumerate(embedded_ids_test):\n",
    "    for i in range(1500):\n",
    "        pred_df.append([entry_id,terms_mlb.classes_[i],prediction[indx][i]])\n",
    "    if indx%3000 == 0:\n",
    "        print(f\"{indx/len(embedded_ids_test)}% completed\")\n",
    "print(\"Completed\")\n",
    "\n",
    "submission = pd.DataFrame(pred_df)\n",
    "submission.columns = [\"EntryID\",\"Terms\",\"Prediction\"]\n",
    "submission.to_csv('submission.tsv', sep=\"\\t\",header = False,index = False)"
   ]
  },
  {
   "cell_type": "code",
   "execution_count": null,
   "id": "fdd8d4c3",
   "metadata": {},
   "outputs": [],
   "source": [
    "trimed = submission[submission[\"Prediction\"] > 0.4]"
   ]
  },
  {
   "cell_type": "code",
   "execution_count": null,
   "id": "8f2b7099",
   "metadata": {},
   "outputs": [],
   "source": [
    "len(trimed)"
   ]
  },
  {
   "cell_type": "code",
   "execution_count": null,
   "id": "d33c4b9a",
   "metadata": {},
   "outputs": [],
   "source": [
    "trimed.to_csv('submission.tsv', sep=\"\\t\",header = False,index = False)"
   ]
  },
  {
   "cell_type": "code",
   "execution_count": 14,
   "id": "a989194e",
   "metadata": {},
   "outputs": [],
   "source": [
    "submission.to_csv('submission.tsv', sep=\"\\t\",header = False,index = False)"
   ]
  },
  {
   "cell_type": "code",
   "execution_count": 15,
   "id": "ca4814ad",
   "metadata": {},
   "outputs": [
    {
     "name": "stdout",
     "output_type": "stream",
     "text": [
      "\n",
      "\n",
      "\n",
      "\n",
      "\n",
      "\n",
      "\n",
      "\n",
      "\n",
      "\n",
      "\n",
      "\n",
      "\n",
      "\n"
     ]
    }
   ],
   "source": [
    "print(\"\\n\\n\\n\\n\\n\\n\\n\\n\\n\\n\\n\\n\\n\")"
   ]
  },
  {
   "cell_type": "code",
   "execution_count": null,
   "id": "21d597e2",
   "metadata": {},
   "outputs": [],
   "source": []
  }
 ],
 "metadata": {
  "kernelspec": {
   "display_name": "Python [conda env:tf] *",
   "language": "python",
   "name": "conda-env-tf-py"
  },
  "language_info": {
   "codemirror_mode": {
    "name": "ipython",
    "version": 3
   },
   "file_extension": ".py",
   "mimetype": "text/x-python",
   "name": "python",
   "nbconvert_exporter": "python",
   "pygments_lexer": "ipython3",
   "version": "3.10.11"
  }
 },
 "nbformat": 4,
 "nbformat_minor": 5
}
